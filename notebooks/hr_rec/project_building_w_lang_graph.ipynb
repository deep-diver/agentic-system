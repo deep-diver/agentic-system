{
 "cells": [
  {
   "cell_type": "code",
   "execution_count": 3,
   "metadata": {},
   "outputs": [
    {
     "data": {
      "text/plain": [
       "True"
      ]
     },
     "execution_count": 3,
     "metadata": {},
     "output_type": "execute_result"
    }
   ],
   "source": [
    "import os\n",
    "from dotenv import load_dotenv\n",
    "load_dotenv()"
   ]
  },
  {
   "cell_type": "markdown",
   "metadata": {},
   "source": [
    "## Build Vector DB"
   ]
  },
  {
   "cell_type": "markdown",
   "metadata": {},
   "source": [
    "This notebook assumes that you have run the `data_prep.ipynb` notebook beforehand, so there should be `projects_data_en.json` file in the current directory."
   ]
  },
  {
   "cell_type": "markdown",
   "metadata": {},
   "source": [
    "### UpstageEmbeddingFunction for ChromaDB"
   ]
  },
  {
   "cell_type": "code",
   "execution_count": 4,
   "metadata": {},
   "outputs": [],
   "source": [
    "import chromadb\n",
    "import numpy as np\n",
    "from openai import OpenAI\n",
    "from chromadb import Documents, EmbeddingFunction, Embeddings\n",
    "\n",
    "# Configure OpenAI client to use Upstage API\n",
    "client = OpenAI(\n",
    "    base_url=\"https://api.upstage.ai/v1\",\n",
    "    api_key=os.getenv(\"UPSTAGE_API_KEY\")\n",
    ")\n",
    "\n",
    "chroma_client = chromadb.PersistentClient(path=\"./chroma_db\")\n",
    "embedding_context_length = 4000\n",
    "\n",
    "class UpstageEmbeddingFunction(EmbeddingFunction[Documents]):\n",
    "    def __init__(\n",
    "        self,\n",
    "        client,\n",
    "        model_name: str = \"embedding-query\",\n",
    "    ):\n",
    "        self.client = client\n",
    "        self.model_name = model_name\n",
    "\n",
    "    def __call__(self, input: Documents) -> Embeddings:\n",
    "        if not all(isinstance(item, str) for item in input):\n",
    "            raise ValueError(\"Solar embedding only supports text documents, not images\")\n",
    "\n",
    "        batch_process_result = self.client.embeddings.create(model=self.model_name, input=input).data\n",
    "        passage_embedding_list = [i.embedding for i in batch_process_result]\n",
    "        return np.array(passage_embedding_list, dtype=np.float32)\n",
    "\n",
    "embedding_fn = UpstageEmbeddingFunction(client)"
   ]
  },
  {
   "cell_type": "markdown",
   "metadata": {},
   "source": [
    "### Store data into ChromaDB"
   ]
  },
  {
   "cell_type": "code",
   "execution_count": 5,
   "metadata": {},
   "outputs": [
    {
     "name": "stdout",
     "output_type": "stream",
     "text": [
      "Loaded 45 projects\n"
     ]
    }
   ],
   "source": [
    "import json\n",
    "\n",
    "# Load the projects data\n",
    "with open('projects_data_en.json', 'r', encoding='utf-8') as f:\n",
    "    projects_data = json.load(f)\n",
    "\n",
    "print(f\"Loaded {len(projects_data)} projects\")"
   ]
  },
  {
   "cell_type": "code",
   "execution_count": 6,
   "metadata": {},
   "outputs": [
    {
     "name": "stdout",
     "output_type": "stream",
     "text": [
      "Collection deleted\n",
      "Collection created\n"
     ]
    }
   ],
   "source": [
    "try:\n",
    "    chroma_client.delete_collection(name=\"projects\")\n",
    "    print(\"Collection deleted\")\n",
    "except Exception as e:\n",
    "    print(e)\n",
    "\n",
    "collection = chroma_client.create_collection(name=\"projects\", embedding_function=embedding_fn)\n",
    "print(\"Collection created\")"
   ]
  },
  {
   "cell_type": "code",
   "execution_count": 7,
   "metadata": {},
   "outputs": [
    {
     "name": "stderr",
     "output_type": "stream",
     "text": [
      "100%|██████████| 45/45 [00:21<00:00,  2.05it/s]\n"
     ]
    }
   ],
   "source": [
    "import hashlib\n",
    "from tqdm import tqdm\n",
    "\n",
    "# Generate hash based on string\n",
    "def generate_hash(text):\n",
    "    \"\"\"Generate a hash (SHA-256) based on input string\"\"\"\n",
    "    return hashlib.sha256(text.encode('utf-8')).hexdigest()\n",
    "\n",
    "for project in tqdm(projects_data):\n",
    "    id = generate_hash(project[\"descriptive_summary\"])\n",
    "\n",
    "    collection.add(\n",
    "        ids=[id],\n",
    "        documents=[project[\"descriptive_summary\"]],\n",
    "        metadatas=[{\"data\": str(project)}]\n",
    "    )"
   ]
  },
  {
   "cell_type": "markdown",
   "metadata": {},
   "source": [
    "## Agentic System w/ LangGraph"
   ]
  },
  {
   "cell_type": "markdown",
   "metadata": {},
   "source": [
    "### Imports"
   ]
  },
  {
   "cell_type": "code",
   "execution_count": 8,
   "metadata": {},
   "outputs": [],
   "source": [
    "import os\n",
    "from pydantic import BaseModel, Field\n",
    "\n",
    "from typing import Annotated\n",
    "from typing_extensions import TypedDict\n",
    "from langchain_upstage import ChatUpstage\n",
    "from langchain_core.messages import AIMessage\n",
    "from langchain_core.prompts import ChatPromptTemplate, MessagesPlaceholder\n",
    "from langchain_core.utils.function_calling import convert_to_openai_tool\n",
    "\n",
    "from langgraph.graph import StateGraph, START, END\n",
    "from langgraph.graph.message import add_messages\n",
    "\n",
    "# UPSTAGE_API_KEY = os.getenv(\"UPSTAGE_API_KEY\")"
   ]
  },
  {
   "cell_type": "markdown",
   "metadata": {},
   "source": [
    "### Dataclasses"
   ]
  },
  {
   "cell_type": "code",
   "execution_count": 9,
   "metadata": {},
   "outputs": [],
   "source": [
    "class Role(BaseModel):\n",
    "    role: str = Field(description=\"A role\")\n",
    "    description: str = Field(description=\"A description of the role\")\n",
    "\n",
    "class Roles(BaseModel):\n",
    "    roles: list[Role] = Field(description=\"A list of roles\")\n",
    "\n",
    "class Participant(BaseModel):\n",
    "    name: str = Field(description=\"The name of the participant\")\n",
    "    role: str = Field(description=\"The role of the participant\")\n",
    "    experience_years: int = Field(description=\"The experience years of the participant\")\n",
    "    skills: list[str] = Field(description=\"The skills of the participant\")\n",
    "\n",
    "class Participants(BaseModel):\n",
    "    participants: list[Participant] = Field(description=\"A list of participants\")"
   ]
  },
  {
   "cell_type": "markdown",
   "metadata": {},
   "source": [
    "### State"
   ]
  },
  {
   "cell_type": "code",
   "execution_count": null,
   "metadata": {},
   "outputs": [],
   "source": [
    "class State(TypedDict):\n",
    "    messages: Annotated[list, add_messages]\n",
    "    extracted_roles: Roles\n",
    "    paraphrased_query: str\n",
    "    retrieved_projects: list[dict]\n",
    "    suggested_participants: Participants\n",
    "    retrieval_index: int  # start at 0, +5 each round"
   ]
  },
  {
   "cell_type": "markdown",
   "metadata": {},
   "source": [
    "### Chat instances"
   ]
  },
  {
   "cell_type": "code",
   "execution_count": 10,
   "metadata": {},
   "outputs": [],
   "source": [
    "solar = ChatUpstage(model=\"solar-pro-250422\")\n",
    "solar_role = solar.with_structured_output(convert_to_openai_tool(Roles))\n",
    "solar_participant = solar.with_structured_output(convert_to_openai_tool(Participants))"
   ]
  },
  {
   "cell_type": "markdown",
   "metadata": {},
   "source": [
    "### Nodes"
   ]
  },
  {
   "cell_type": "code",
   "execution_count": 12,
   "metadata": {},
   "outputs": [],
   "source": [
    "def role_extraction_agent(state: State):\n",
    "    messages = state['messages']\n",
    "\n",
    "    system_prompt = \"You are a helpful agent who can extract the required roles of the project.\"\n",
    "    prompt = ChatPromptTemplate.from_messages([\n",
    "        (\"system\", system_prompt), # Static system message\n",
    "        MessagesPlaceholder(variable_name=\"messages\"), # Placeholder for history/user input\n",
    "    ])\n",
    "\n",
    "    chain = prompt | solar_role\n",
    "    \n",
    "    response = chain.invoke({\"messages\": messages})\n",
    "    response = Roles(**response)\n",
    "    \n",
    "    return {\"extracted_roles\": response}\n",
    "\n",
    "def paraphrase_agent(state: State):\n",
    "    messages = state['messages']\n",
    "    system_prompt = (\n",
    "        \"You are a helpful agent who paraphrase the user's prompt into a query to find \"\n",
    "        \"similar projects from the vector database. MUST return the paraphrased query only.\"\n",
    "    )\n",
    "    prompt = ChatPromptTemplate.from_messages([\n",
    "        (\"system\", system_prompt), # Static system message\n",
    "        MessagesPlaceholder(variable_name=\"messages\"), # Placeholder for history/user input\n",
    "    ])\n",
    "\n",
    "    chain = prompt | solar\n",
    "    response = chain.invoke({\"messages\": messages})\n",
    "    return {\"paraphrased_query\": str(response)}\n",
    "\n",
    "def retrieval_node(state: State):\n",
    "    query = state['paraphrased_query']\n",
    "    index = state.get(\"retrieval_index\", 0)\n",
    "    collection = chroma_client.get_collection(name=\"projects\", embedding_function=embedding_fn)\n",
    "    \n",
    "    # retrieve next 5\n",
    "    results = collection.query(query_texts=[query], n_results=index + 5)[\"metadatas\"][0]\n",
    "    \n",
    "    return {\n",
    "        \"retrieved_projects\": results,\n",
    "        \"retrieval_index\": index + 5\n",
    "    }\n",
    "\n",
    "def suggestion_agent(state: State):\n",
    "    extracted_roles = state['extracted_roles']\n",
    "    retrieved_projects = state['retrieved_projects']\n",
    "\n",
    "    system_prompt = (\n",
    "        \"You are a helpful agent who suggests who is the best fit for the \"\n",
    "        \"extracted roles based on the participants of the retrieved projects. \"\n",
    "        \"MUST return the best fit person for the extracted roles only.\"\n",
    "    )\n",
    "\n",
    "    prompt = ChatPromptTemplate.from_messages([\n",
    "        (\"system\", system_prompt),\n",
    "        MessagesPlaceholder(variable_name=\"messages\"),\n",
    "    ])\n",
    "\n",
    "    chain = prompt | solar_participant\n",
    "\n",
    "    # Create a synthetic message for this step\n",
    "    messages = [\n",
    "        {\n",
    "            \"role\": \"user\", \n",
    "            \"content\": (\n",
    "                f\"extracted roles: {extracted_roles}\\n\"\n",
    "                f\"retrieved projects: {retrieved_projects}\\n\"\n",
    "            )\n",
    "        }\n",
    "    ]\n",
    "\n",
    "    response = chain.invoke({\"messages\": messages})\n",
    "    response = Participants(**response)\n",
    "    return {\"suggested_participants\": response}\n",
    "\n",
    "def check_completion(state: State):\n",
    "    required = len(state[\"extracted_roles\"].roles)\n",
    "    suggested = len(state[\"suggested_participants\"].participants)\n",
    "    \n",
    "    if suggested >= required:\n",
    "        return \"done\"\n",
    "    elif state[\"retrieval_index\"] >= 20:  # max retrieval limit\n",
    "        return \"done\"\n",
    "    else:\n",
    "        return \"continue\""
   ]
  },
  {
   "cell_type": "markdown",
   "metadata": {},
   "source": [
    "### Building a graph"
   ]
  },
  {
   "cell_type": "code",
   "execution_count": 13,
   "metadata": {},
   "outputs": [
    {
     "data": {
      "image/png": "[encoded data removed]",
      "text/plain": [
       "<IPython.core.display.Image object>"
      ]
     },
     "metadata": {},
     "output_type": "display_data"
    }
   ],
   "source": [
    "from IPython.display import Image, display\n",
    "\n",
    "graph_builder = StateGraph(State)\n",
    "\n",
    "graph_builder.add_node(\"role_extraction_agent\", role_extraction_agent)\n",
    "graph_builder.add_node(\"paraphrase_agent\", paraphrase_agent)\n",
    "graph_builder.add_node(\"retrieval_node\", retrieval_node)\n",
    "graph_builder.add_node(\"sync_roles_and_retrieval\", lambda state: state)\n",
    "graph_builder.add_node(\"suggestion_agent\", suggestion_agent)\n",
    "\n",
    "# Create a sequential workflow to ensure proper execution order\n",
    "graph_builder.add_edge(START, \"role_extraction_agent\")\n",
    "graph_builder.add_edge(START, \"paraphrase_agent\")\n",
    "graph_builder.add_edge(\"paraphrase_agent\", \"retrieval_node\")\n",
    "graph_builder.add_edge(\"role_extraction_agent\", \"sync_roles_and_retrieval\")\n",
    "graph_builder.add_edge(\"retrieval_node\", \"sync_roles_and_retrieval\")\n",
    "graph_builder.add_edge(\"sync_roles_and_retrieval\", \"suggestion_agent\")\n",
    "graph_builder.add_conditional_edges(\n",
    "    \"suggestion_agent\",\n",
    "    check_completion,\n",
    "    {\n",
    "        \"done\": END,\n",
    "        \"continue\": \"retrieval_node\"\n",
    "    }\n",
    ")\n",
    "\n",
    "graph = graph_builder.compile()\n",
    "display(Image(graph.get_graph().draw_mermaid_png()))"
   ]
  },
  {
   "cell_type": "markdown",
   "metadata": {},
   "source": [
    "### Running the graph"
   ]
  },
  {
   "cell_type": "code",
   "execution_count": 21,
   "metadata": {},
   "outputs": [
    {
     "name": "stdout",
     "output_type": "stream",
     "text": [
      "Your request: I want to build a project that brings intelligence to the traditional financial system\n",
      "paraphrased query : \n",
      "content='\"Project to integrate artificial intelligence into conventional financial systems\"' additional_kwargs={'refusal': None} response_metadata={'token_usage': {'completion_tokens': 12, 'prompt_tokens': 67, 'total_tokens': 79, 'completion_tokens_details': None, 'prompt_tokens_details': None}, 'model_name': 'solar-pro-250422', 'system_fingerprint': None, 'id': 'c1d6b5c5-adce-4500-8f72-0621418982fa', 'service_tier': None, 'finish_reason': 'stop', 'logprobs': None} id='run--24371eb9-280c-4916-b9ad-fa61e6c9aa0a-0' usage_metadata={'input_tokens': 67, 'output_tokens': 12, 'total_tokens': 79, 'input_token_details': {}, 'output_token_details': {}}\n",
      "extracted roles: \n",
      "{\n",
      "  \"roles\": [\n",
      "    {\n",
      "      \"role\": \"Project Manager\",\n",
      "      \"description\": \"Manage the project and ensure it is completed on time and within budget.\"\n",
      "    },\n",
      "    {\n",
      "      \"role\": \"Data Scientist\",\n",
      "      \"description\": \"Analyze and interpret complex data to provide insights and make predictions.\"\n",
      "    },\n",
      "    {\n",
      "      \"role\": \"Software Engineer\",\n",
      "      \"description\": \"Develop and maintain software applications.\"\n",
      "    },\n",
      "    {\n",
      "      \"role\": \"Financial Analyst\",\n",
      "      \"description\": \"Analyze financial data and provide insights to help make informed decisions.\"\n",
      "    },\n",
      "    {\n",
      "      \"role\": \"Business Analyst\",\n",
      "      \"description\": \"Identify business needs and translate them into requirements for the project.\"\n",
      "    }\n",
      "  ]\n",
      "}\n",
      "retrieved projects: \n",
      "[{'data': \"{'project_name': 'AI-driven Personal Finance Management Platform', 'descriptive_summary': 'Develop an AI-driven personal finance management platform that offers users personalized budgeting, investment, and savings advice. The platform will integrate with multiple banking APIs to aggregate financial data, provide real-time analytics, and offer actionable insights. It must ensure high-level security for user data and comply with financial regulations. This project aims to empower users to make informed financial decisions, improve their financial literacy, and achieve their financial goals through advanced AI and financial data integration, ultimately transforming the way individuals manage their personal finances in the digital age.', 'required_roles': ['AI Specialist', 'Financial Analyst', 'UI/UX Designer', 'Data Security Expert', 'Project Manager'], 'duration_months': 18, 'participants': [{'experience_years': 5, 'name': 'Dr. Alex Hart', 'role': 'AI Specialist', 'skills': ['Machine Learning', 'Natural Language Processing', 'Data Mining']}, {'experience_years': 8, 'name': 'Emma Stone', 'role': 'Financial Analyst', 'skills': ['Financial Modeling', 'Risk Assessment', 'Economic Forecasting']}, {'experience_years': 6, 'name': 'Lucas Graham', 'role': 'UI/UX Designer', 'skills': ['User-Centered Design', 'Prototyping', 'Usability Testing']}, {'experience_years': 7, 'name': 'Sophia Lee', 'role': 'Data Security Expert', 'skills': ['Encryption', 'Network Security', 'Compliance']}, {'experience_years': 10, 'name': 'Michael Brown', 'role': 'Project Manager', 'skills': ['Agile Methodology', 'Team Leadership', 'Risk Management']}]}\"}, {'data': \"{'project_name': 'AI-driven Personal Finance Management Platform', 'descriptive_summary': 'Develop an AI-driven personal finance management platform that offers users personalized budgeting, investment, and savings advice. The platform will integrate with multiple banking APIs to aggregate financial data, provide real-time analytics, and offer actionable insights. It must ensure high-level security for user data and comply with financial regulations. This project aims to empower users to make informed financial decisions, improve their financial literacy, and achieve their financial goals through advanced AI and financial data integration, ultimately transforming the way individuals manage their personal finances in the digital age.—', 'required_roles': ['AI Developer', 'Financial Analyst', 'Security Specialist'], 'duration_months': 18, 'participants': [{'name': 'John Doe', 'role': 'AI Developer', 'experience_years': 5, 'skills': ['Machine Learning', 'Natural Language Processing', 'Python'], 'performance_rating': 4.5}, {'name': 'Jane Smith', 'role': 'Financial Analyst', 'experience_years': 8, 'skills': ['Financial Modeling', 'Risk Analysis', 'Data Interpretation'], 'performance_rating': 4.7}, {'name': 'Michael Brown', 'role': 'Security Specialist', 'experience_years': 10, 'skills': ['Cybersecurity', 'Encryption', 'Security Protocols'], 'performance_rating': 4.8}]}\"}, {'data': '{\\'project_name\\': \\'AI-Driven Personal Finance Management Platform\\', \\'descriptive_summary\\': \"Develop an AI-driven personal finance management platform that offers users personalized budgeting, investment, and savings advice. The platform will integrate with multiple banking APIs to aggregate financial data, provide real-time analytics, and offer actionable insights. It must ensure high-level security for user data and comply with financial regulations. This project aims to empower users to make informed financial decisions, improve their financial literacy, and achieve their financial goals through advanced AI and financial data integration, ultimately transforming the way individuals manage their personal finances in the digital age. This project is designed to deliver a high-impact, value-driven solution that meets the evolving needs of the personal finance management market and its stakeholders, while also addressing the critical issues of data privacy and security in the digital age. By leveraging the latest AI and integration technologies, the platform will be able to provide a truly innovative and transformative financial management solution that optimizes resource use, improves financial outcomes, and supports sustainable financial practices, ultimately delivering significant value and benefits to users and the broader personal finance management market in a competitive and rapidly changing marketplace. By focusing on these key areas, the project will be able to deliver a highly innovative and transformative financial management solution that meets the evolving needs of the personal finance management market and its stakeholders, while also addressing the critical issues of data privacy and security in the digital age, ultimately driving growth and success for the personal finance management market in today\\'s digital landscape. This project will involve the following key roles: AI Specialist, Financial Analyst, UI/UX Designer, Data Security Expert, and Project Manager. The project will be executed in three main phases: 1) System Design and Architecture, 2) Development and Integration, and 3) Testing and Deployment. The project will also involve extensive stakeholder engagement and collaboration with financial institutions, regulatory bodies, and technology partners to ensure the platform meets the diverse needs and requirements of personal finance management stakeholders. The project will prioritize data privacy and security throughout the development process, with robust measures in place to protect sensitive information and comply with relevant data protection regulations. Ultimately, this project represents a significant opportunity to transform the way personal finance management is conducted, empowering individuals to make more informed and effective financial decisions, improve their financial literacy, and achieve their financial goals in a dynamic and competitive marketplace. By leveraging the latest AI and integration technologies, the platform will be able to provide a truly innovative and transformative financial management solution that meets the evolving needs of today\\'s digital consumers and their stakeholders, while also addressing the critical issues of data privacy and security in the financial sector. By focusing on these key areas, the project will be able to deliver a high-impact, value-driven solution that empowers individuals to take control of their financial futures and achieve their financial goals, ultimately transforming the way personal finance management is conducted in the digital age. This project is therefore designed to deliver a high-impact, value-driven solution that meets the evolving needs of the personal finance management market and its stakeholders, while also addressing the critical issues of data privacy and security in the digital age. By leveraging the latest AI and integration technologies, the platform will be able to provide a truly innovative and transformative financial management solution that optimizes financial outcomes, improves financial literacy, and supports sustainable financial practices, ultimately delivering significant value and benefits to users and the broader personal finance management market in a competitive and rapidly changing marketplace. By focusing on these key areas, the project will be able to deliver a highly innovative and transformative financial management solution that meets the evolving needs of the personal finance management market and its stakeholders, while also addressing the critical issues of data privacy and security in the digital age, ultimately driving growth and success for the personal finance management market in today\\'s digital landscape. This project is therefore designed to deliver a high-impact, value-driven solution that meets the evolving needs of the personal finance management market and its stakeholders, while also addressing the critical issues of data privacy and security in the digital age. By leveraging the latest AI and integration technologies, the platform will be able to provide a truly innovative and transformative financial management solution that optimizes financial outcomes, improves financial literacy, and supports sustainable financial practices, ultimately delivering significant value and benefits to users and the broader personal finance management market in a competitive and rapidly changing marketplace. By focusing on these key areas, the project will be able to deliver a highly innovative and transformative financial management solution that meets the evolving needs of the personal finance management market and its stakeholders, while also addressing the critical issues of data privacy and security in the digital age, ultimately driving growth and success for the personal finance management market in today\\'s digital landscape. This project is therefore designed to deliver a high-impact, value-driven solution that meets the evolving needs of the personal finance management market and its stakeholders, while also addressing the critical issues of data privacy and security in the digital age. By leveraging the latest AI and integration technologies, the platform will be able to provide a truly innovative and transformative financial management solution that optimizes financial outcomes, improves financial literacy, and supports sustainable financial practices, ultimately delivering significant value and benefits to users and the broader personal finance management market in a competitive and rapidly changing marketplace. By focusing on these key areas, the project will be able to deliver a highly innovative and transformative financial management solution that meets the evolving needs of the personal finance management market and its stakeholders, while also addressing the critical issues of data privacy and security in the digital age, ultimately driving growth and success for the personal finance management market in today\\'s digital landscape.\", \\'required_roles\\': [\\'AI Specialist\\', \\'Financial Analyst\\', \\'UI/UX Designer\\', \\'Data Security Expert\\', \\'Project Manager\\'], \\'duration_months\\': 18, \\'participants\\': [{\\'name\\': \\'Dr. Ava Smith\\', \\'role\\': \\'AI Specialist\\', \\'experience_years\\': 8, \\'skills\\': [\\'Machine Learning\\', \\'Natural Language Processing\\', \\'Data Mining\\'], \\'performance_rating\\': 4.5}, {\\'name\\': \\'Mr. Liam Johnson\\', \\'role\\': \\'Financial Analyst\\', \\'experience_years\\': 6, \\'skills\\': [\\'Financial Modeling\\', \\'Investment Analysis\\', \\'Risk Management\\'], \\'performance_rating\\': 4.0}, {\\'name\\': \\'Ms. Emma Brown\\', \\'role\\': \\'UI/UX Designer\\', \\'experience_years\\': 5, \\'skills\\': [\\'User Research\\', \\'Wireframing\\', \\'Prototyping\\'], \\'performance_rating\\': 4.2}, {\\'name\\': \\'Mr. Noah Davis\\', \\'role\\': \\'Data Security Expert\\', \\'experience_years\\': 7, \\'skills\\': [\\'Encryption\\', \\'Network Security\\', \\'Compliance\\'], \\'performance_rating\\': 4.7}, {\\'name\\': \\'Ms. Olivia Williams\\', \\'role\\': \\'Project Manager\\', \\'experience_years\\': 10, \\'skills\\': [\\'Agile Methodologies\\', \\'Team Leadership\\', \\'Stakeholder Management\\'], \\'performance_rating\\': 4.8}]}'}, {'data': \"{'project_name': 'Project #22: AI-Driven Personal Finance Management Platform', 'descriptive_summary': 'Develop an AI-driven personal finance management platform that offers users personalized budgeting, investment, and savings advice. The platform will integrate with multiple banking APIs to aggregate financial data, provide real-time analytics, and offer actionable insights. It must ensure high-level security for user data and comply with financial regulations. This project aims to empower users to make informed financial decisions, improve their financial literacy, and achieve their financial goals through advanced AI and financial data integration, ultimately transforming the way individuals manage their personal finances in the digital age', 'required_roles': ['Project Manager', 'Software Developer', 'AI Specialist', 'Data Scientist', 'UI/UX Designer', 'Quality Assurance Engineer', 'Backend Developer', 'Frontend Developer', 'Mobile App Developer', 'Security Analyst'], 'duration_months': 18, 'participants': [{'name': 'Jane Smith', 'role': 'Project Manager', 'experience_years': 8, 'skills': ['Project Management', 'Team Leadership', 'Agile Methodology', 'Budgeting', 'Risk Management'], 'performance_rating': 4.5}, {'name': 'John Doe', 'role': 'Software Developer', 'experience_years': 5, 'skills': ['Java', 'C++', 'Software Development Life Cycle', 'Debugging', 'Code Review'], 'performance_rating': 4.0}, {'name': 'Alice Johnson', 'role': 'AI Specialist', 'experience_years': 6, 'skills': ['Machine Learning', 'Natural Language Processing', 'AI Ethics', 'Algorithm Design', 'Data Mining'], 'performance_rating': 4.7}, {'name': 'Bob Brown', 'role': 'Data Scientist', 'experience_years': 7, 'skills': ['Data Analysis', 'Predictive Modeling', 'Data Visualization', 'Machine Learning', 'Statistical Analysis'], 'performance_rating': 4.8}, {'name': 'Carol King', 'role': 'UI/UX Designer', 'experience_years': 5, 'skills': ['User Experience Design', 'Wireframing', 'Prototyping', 'UI Design', 'Usability Testing'], 'performance_rating': 4.3}, {'name': 'David Green', 'role': 'Quality Assurance Engineer', 'experience_years': 4, 'skills': ['Test Automation', 'Bug Tracking', 'Software Testing', 'Quality Assurance', 'Continuous Integration'], 'performance_rating': 4.1}, {'name': 'Eve White', 'role': 'Backend Developer', 'experience_years': 6, 'skills': ['Python', 'Database Management', 'Server Architecture', 'API Development', 'Middleware'], 'performance_rating': 4.6}, {'name': 'Frank Black', 'role': 'Frontend Developer', 'experience_years': 5, 'skills': ['JavaScript', 'HTML5', 'CSS3', 'Responsive Design', 'Frontend Frameworks'], 'performance_rating': 4.4}, {'name': 'Grace Lee', 'role': 'Mobile App Developer', 'experience_years': 4, 'skills': ['Android Development', 'iOS Development', 'Cross-Platform Development', 'Mobile UI Design', 'App Testing'], 'performance_rating': 4.2}, {'name': 'Henry Davis', 'role': 'Security Analyst', 'experience_years': 7, 'skills': ['Cybersecurity', 'Threat Assessment', 'Vulnerability Testing', 'Encryption', 'Security Protocols'], 'performance_rating': 4.9}]}\"}, {'data': '{\\'project_name\\': \\'AI-driven Personal Finance Management Platform\\', \\'descriptive_summary\\': \"Develop an AI-driven personal finance management platform that offers users personalized budgeting, investment, and savings advice. The platform will integrate with multiple banking APIs to aggregate financial data, provide real-time analytics, and offer actionable insights. It must ensure high-level security for user data and comply with financial regulations. This project aims to empower users to make informed financial decisions, improve their financial literacy, and achieve their financial goals through advanced AI and financial data integration, ultimately transforming the way individuals manage their personal finances in the digital age. The project will involve the following key roles: AI Specialist, Financial Analyst, UI/UX Designer, Data Security Expert, and Project Manager. The project will be executed in three main phases: System Design and Architecture, Development and Integration, and Testing and Deployment. The project duration is 18 months, focusing on delivering a high-impact, value-driven solution for the personal finance management market and its stakeholders, while also addressing critical issues of data privacy and security in the digital age. By leveraging the latest AI and integration technologies, the platform will be able to provide a truly innovative and transformative financial management solution that meets the evolving needs of today\\'s digital consumers and their stakeholders, while also addressing the critical issues of data privacy and security in the financial sector. By focusing on these key areas, the project will be able to deliver a high-impact, value-driven solution that empowers individuals to take control of their financial futures and achieve their financial goals, ultimately transforming the way individuals manage their personal finances in the digital age. This project is therefore designed to deliver a high-impact, value-driven solution that meets the evolving needs of the personal finance management market and its stakeholders, while also addressing the critical issues of data privacy and security in the digital age. By leveraging the latest AI and integration technologies, the platform will be able to provide a truly innovative and transformative financial management solution that optimizes financial outcomes, improves financial literacy, and supports sustainable financial practices, ultimately delivering significant value and benefits to users and the broader personal finance management market in a competitive and rapidly changing marketplace. By focusing on these key areas, the project will be able to deliver a highly innovative and transformative financial management solution that meets the evolving needs of the personal finance management market and its stakeholders, while also addressing the critical issues of data privacy and security in the digital age, ultimately driving growth and success for the personal finance management market in today\\'s digital landscape.\", \\'required_roles\\': [\\'AI Specialist\\', \\'Financial Analyst\\', \\'UI/UX Designer\\', \\'Data Security Expert\\', \\'Project Manager\\'], \\'duration_months\\': 18, \\'participants\\': [{\\'experience_years\\': 5, \\'name\\': \\'Dr. Alice Monroe\\', \\'role\\': \\'AI Specialist\\', \\'skills\\': [\\'Machine Learning\\', \\'Natural Language Processing\\', \\'Python\\']}, {\\'experience_years\\': 7, \\'name\\': \\'Mr. John Carter\\', \\'role\\': \\'Financial Analyst\\', \\'skills\\': [\\'Financial Modeling\\', \\'Investment Analysis\\', \\'Economic Forecasting\\']}, {\\'experience_years\\': 4, \\'name\\': \\'Ms. Emily Harris\\', \\'role\\': \\'UI/UX Designer\\', \\'skills\\': [\\'Adobe XD\\', \\'Sketch\\', \\'User Research\\']}, {\\'experience_years\\': 6, \\'name\\': \\'Mr. Victor Nguyen\\', \\'role\\': \\'Data Security Expert\\', \\'skills\\': [\\'Cybersecurity\\', \\'Data Encryption\\', \\'Risk Management\\']}, {\\'experience_years\\': 8, \\'name\\': \\'Ms. Laura Gibson\\', \\'role\\': \\'Project Manager\\', \\'skills\\': [\\'Agile Methodologies\\', \\'Team Leadership\\', \\'Stakeholder Communication\\']}]}'}]\n",
      "suggested participants: \n",
      "{\n",
      "  \"participants\": [\n",
      "    {\n",
      "      \"name\": \"Dr. Alex Hart\",\n",
      "      \"role\": \"AI Specialist\",\n",
      "      \"experience_years\": 5,\n",
      "      \"skills\": [\n",
      "        \"Machine Learning\",\n",
      "        \"Natural Language Processing\",\n",
      "        \"Data Mining\"\n",
      "      ]\n",
      "    },\n",
      "    {\n",
      "      \"name\": \"Emma Stone\",\n",
      "      \"role\": \"Financial Analyst\",\n",
      "      \"experience_years\": 8,\n",
      "      \"skills\": [\n",
      "        \"Financial Modeling\",\n",
      "        \"Risk Assessment\",\n",
      "        \"Economic Forecasting\"\n",
      "      ]\n",
      "    },\n",
      "    {\n",
      "      \"name\": \"Lucas Graham\",\n",
      "      \"role\": \"UI/UX Designer\",\n",
      "      \"experience_years\": 6,\n",
      "      \"skills\": [\n",
      "        \"User-Centered Design\",\n",
      "        \"Prototyping\",\n",
      "        \"Usability Testing\"\n",
      "      ]\n",
      "    },\n",
      "    {\n",
      "      \"name\": \"Sophia Lee\",\n",
      "      \"role\": \"Data Security Expert\",\n",
      "      \"experience_years\": 7,\n",
      "      \"skills\": [\n",
      "        \"Encryption\",\n",
      "        \"Network Security\",\n",
      "        \"Compliance\"\n",
      "      ]\n",
      "    },\n",
      "    {\n",
      "      \"name\": \"Michael Brown\",\n",
      "      \"role\": \"Project Manager\",\n",
      "      \"experience_years\": 10,\n",
      "      \"skills\": [\n",
      "        \"Agile Methodology\",\n",
      "        \"Team Leadership\",\n",
      "        \"Risk Management\"\n",
      "      ]\n",
      "    }\n",
      "  ]\n",
      "}\n",
      "suggested participants: \n",
      "{\n",
      "  \"participants\": [\n",
      "    {\n",
      "      \"name\": \"Dr. Alex Hart\",\n",
      "      \"role\": \"AI Specialist\",\n",
      "      \"experience_years\": 5,\n",
      "      \"skills\": [\n",
      "        \"Machine Learning\",\n",
      "        \"Natural Language Processing\",\n",
      "        \"Data Mining\"\n",
      "      ]\n",
      "    },\n",
      "    {\n",
      "      \"name\": \"Emma Stone\",\n",
      "      \"role\": \"Financial Analyst\",\n",
      "      \"experience_years\": 8,\n",
      "      \"skills\": [\n",
      "        \"Financial Modeling\",\n",
      "        \"Risk Assessment\",\n",
      "        \"Economic Forecasting\"\n",
      "      ]\n",
      "    },\n",
      "    {\n",
      "      \"name\": \"Lucas Graham\",\n",
      "      \"role\": \"UI/UX Designer\",\n",
      "      \"experience_years\": 6,\n",
      "      \"skills\": [\n",
      "        \"User-Centered Design\",\n",
      "        \"Prototyping\",\n",
      "        \"Usability Testing\"\n",
      "      ]\n",
      "    },\n",
      "    {\n",
      "      \"name\": \"Sophia Lee\",\n",
      "      \"role\": \"Data Security Expert\",\n",
      "      \"experience_years\": 7,\n",
      "      \"skills\": [\n",
      "        \"Encryption\",\n",
      "        \"Network Security\",\n",
      "        \"Compliance\"\n",
      "      ]\n",
      "    },\n",
      "    {\n",
      "      \"name\": \"Michael Brown\",\n",
      "      \"role\": \"Project Manager\",\n",
      "      \"experience_years\": 10,\n",
      "      \"skills\": [\n",
      "        \"Agile Methodology\",\n",
      "        \"Team Leadership\",\n",
      "        \"Risk Management\"\n",
      "      ]\n",
      "    }\n",
      "  ]\n",
      "}\n",
      "Goodbye!\n"
     ]
    }
   ],
   "source": [
    "# I want to build a project that brings intelligence to the traditional financial system\n",
    "\n",
    "participants = None\n",
    "\n",
    "def stream_graph_updates(user_input: str):\n",
    "    global participants\n",
    "    \n",
    "    print(f\"Your request: {user_input}\")\n",
    "    \n",
    "    for event in graph.stream(\n",
    "        {\n",
    "            \"messages\": [{\"role\": \"user\", \"content\": user_input}],\n",
    "        }\n",
    "    ):\n",
    "        if 'paraphrase_agent' in event:\n",
    "            print(f\"paraphrased query : \\n{event['paraphrase_agent']['paraphrased_query']}\")\n",
    "        elif 'role_extraction_agent' in event:\n",
    "            roles = event['role_extraction_agent']['extracted_roles']\n",
    "            print(f\"extracted roles: \\n{roles.model_dump_json(indent=2)}\")\n",
    "        elif 'retrieval_node' in event:\n",
    "            print(f\"retrieved projects: \\n{event['retrieval_node']['retrieved_projects']}\")\n",
    "        elif 'suggestion_agent' in event:\n",
    "            participants = event['suggestion_agent']['suggested_participants']\n",
    "            print(f\"suggested participants: \\n{participants.model_dump_json(indent=2)}\")\n",
    "\n",
    "while True:\n",
    "    try:\n",
    "        user_input = input(\"User: \")\n",
    "        if user_input.lower() in [\"quit\", \"exit\", \"q\"]:\n",
    "            print(\"Goodbye!\")\n",
    "            break\n",
    "\n",
    "        stream_graph_updates(user_input)\n",
    "    except Exception as e:\n",
    "        print(e)\n",
    "        break"
   ]
  },
  {
   "cell_type": "code",
   "execution_count": 23,
   "metadata": {},
   "outputs": [
    {
     "name": "stdout",
     "output_type": "stream",
     "text": [
      "{\n",
      "  \"participants\": [\n",
      "    {\n",
      "      \"name\": \"Dr. Alex Hart\",\n",
      "      \"role\": \"AI Specialist\",\n",
      "      \"experience_years\": 5,\n",
      "      \"skills\": [\n",
      "        \"Machine Learning\",\n",
      "        \"Natural Language Processing\",\n",
      "        \"Data Mining\"\n",
      "      ]\n",
      "    },\n",
      "    {\n",
      "      \"name\": \"Emma Stone\",\n",
      "      \"role\": \"Financial Analyst\",\n",
      "      \"experience_years\": 8,\n",
      "      \"skills\": [\n",
      "        \"Financial Modeling\",\n",
      "        \"Risk Assessment\",\n",
      "        \"Economic Forecasting\"\n",
      "      ]\n",
      "    },\n",
      "    {\n",
      "      \"name\": \"Lucas Graham\",\n",
      "      \"role\": \"UI/UX Designer\",\n",
      "      \"experience_years\": 6,\n",
      "      \"skills\": [\n",
      "        \"User-Centered Design\",\n",
      "        \"Prototyping\",\n",
      "        \"Usability Testing\"\n",
      "      ]\n",
      "    },\n",
      "    {\n",
      "      \"name\": \"Sophia Lee\",\n",
      "      \"role\": \"Data Security Expert\",\n",
      "      \"experience_years\": 7,\n",
      "      \"skills\": [\n",
      "        \"Encryption\",\n",
      "        \"Network Security\",\n",
      "        \"Compliance\"\n",
      "      ]\n",
      "    },\n",
      "    {\n",
      "      \"name\": \"Michael Brown\",\n",
      "      \"role\": \"Project Manager\",\n",
      "      \"experience_years\": 10,\n",
      "      \"skills\": [\n",
      "        \"Agile Methodology\",\n",
      "        \"Team Leadership\",\n",
      "        \"Risk Management\"\n",
      "      ]\n",
      "    }\n",
      "  ]\n",
      "}\n"
     ]
    }
   ],
   "source": [
    "print(participants.model_dump_json(indent=2))"
   ]
  },
  {
   "cell_type": "code",
   "execution_count": null,
   "metadata": {},
   "outputs": [],
   "source": []
  }
 ],
 "metadata": {
  "kernelspec": {
   "display_name": "agentic-system",
   "language": "python",
   "name": "python3"
  },
  "language_info": {
   "codemirror_mode": {
    "name": "ipython",
    "version": 3
   },
   "file_extension": ".py",
   "mimetype": "text/x-python",
   "name": "python",
   "nbconvert_exporter": "python",
   "pygments_lexer": "ipython3",
   "version": "3.11.11"
  }
 },
 "nbformat": 4,
 "nbformat_minor": 2
}
